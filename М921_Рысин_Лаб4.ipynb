{
 "cells": [
  {
   "cell_type": "markdown",
   "id": "8be62ff9",
   "metadata": {},
   "source": [
    "## Задание No 4. К разделу 2.\n",
    "Необходимо:\n",
    "- Исследовать данные\n",
    "- построить графики и схемы, позволяющие получить информацию\n",
    "- визуализировать данные\n",
    "- обучить модель регрессии или классификации\n",
    "- оценить качество модели\n",
    "\n",
    "ссылка на дата сет:\n",
    "https://www.kaggle.com/datasets/wenruliu/adult-income-dataset",
    "\n",
    "ссылка на гит репозеторий:",
    "https://github.com/MolodoiUndead/Metrology.git"
   ]
  },
  {
   "cell_type": "markdown",
   "id": "88dc900e",
   "metadata": {},
   "source": [
    "# Описание данных"
   ]
  },
  {
   "cell_type": "markdown",
   "id": "7190bcc7",
   "metadata": {},
   "source": [
    "**Переменные, характеризующие информацию о деятельности компаний занимающихся туристическим страхованием, базирующихся в Сингапуре**\n",
    "\n",
    "- `age` - возраст\n",
    "- `workclass` - рабочий класс\n",
    "- `fnlwgt` - вес\n",
    "- `education` - образование \n",
    "- `educational-num` - количество лет обучения\n",
    "- `marital-status` - замужество\n",
    "- `occupation` - вид жительства\n",
    "- `relationship` - отношения\n",
    "- `race` - расса\n",
    "- `gender` - пол \n",
    "- `capital-gain` - сторонний доход 1\n",
    "- `capital-loss` - сторонний доход 2\n",
    "- `hours-per-week` - часов в неделю\n",
    "- `native-country` - страна происхождения\n",
    "\n",
    "\n",
    "**Целевая переменная:**\n",
    "- `income` - доход (<=50K и >50K )"
   ]
  },
  {
   "cell_type": "code",
   "execution_count": 1,
   "id": "3e01da3b",
   "metadata": {},
   "outputs": [],
   "source": [
    "import pandas as pd\n",
    "import numpy as np\n",
    "import matplotlib.pyplot as plt\n",
    "import seaborn as sns\n",
    "\n",
    "from pyod.models.knn import KNN\n",
    "from sklearn.linear_model import LogisticRegression\n",
    "from sklearn.ensemble import RandomForestClassifier\n",
    "from sklearn.multioutput import MultiOutputClassifier\n",
    "from sklearn.model_selection import train_test_split\n",
    "from sklearn.metrics import accuracy_score, f1_score, roc_curve, roc_auc_score,recall_score, precision_score\n",
    "from catboost import CatBoostRegressor\n",
    "from catboost import CatBoostClassifier\n",
    "from sklearn.model_selection import cross_val_score\n",
    "from sklearn.model_selection import GridSearchCV\n",
    "from sklearn.preprocessing import OrdinalEncoder\n",
    "from sklearn.utils.class_weight import compute_class_weight\n",
    "from sklearn.utils import shuffle\n",
    "\n",
    "import warnings\n",
    "warnings.filterwarnings('ignore')"
   ]
  },
  {
   "cell_type": "code",
   "execution_count": 2,
   "id": "eb10c9cb",
   "metadata": {},
   "outputs": [],
   "source": [
    "df = pd.read_csv('/Users/romanrysin/Downloads/adult.csv')"
   ]
  },
  {
   "cell_type": "markdown",
   "id": "4174567a",
   "metadata": {},
   "source": [
    "Выведем общую информацию о дата сете"
   ]
  },
  {
   "cell_type": "code",
   "execution_count": 3,
   "id": "ecd9b05b",
   "metadata": {},
   "outputs": [
    {
     "name": "stdout",
     "output_type": "stream",
     "text": [
      "<class 'pandas.core.frame.DataFrame'>\n",
      "RangeIndex: 48842 entries, 0 to 48841\n",
      "Data columns (total 15 columns):\n",
      " #   Column           Non-Null Count  Dtype \n",
      "---  ------           --------------  ----- \n",
      " 0   age              48842 non-null  int64 \n",
      " 1   workclass        48842 non-null  object\n",
      " 2   fnlwgt           48842 non-null  int64 \n",
      " 3   education        48842 non-null  object\n",
      " 4   educational-num  48842 non-null  int64 \n",
      " 5   marital-status   48842 non-null  object\n",
      " 6   occupation       48842 non-null  object\n",
      " 7   relationship     48842 non-null  object\n",
      " 8   race             48842 non-null  object\n",
      " 9   gender           48842 non-null  object\n",
      " 10  capital-gain     48842 non-null  int64 \n",
      " 11  capital-loss     48842 non-null  int64 \n",
      " 12  hours-per-week   48842 non-null  int64 \n",
      " 13  native-country   48842 non-null  object\n",
      " 14  income           48842 non-null  object\n",
      "dtypes: int64(6), object(9)\n",
      "memory usage: 5.6+ MB\n"
     ]
    }
   ],
   "source": [
    "df.info()"
   ]
  },
  {
   "cell_type": "markdown",
   "id": "b2dfeab7",
   "metadata": {},
   "source": [
    "Выведем списки уникальных значений каждого столбца"
   ]
  },
  {
   "cell_type": "code",
   "execution_count": 4,
   "id": "9389303e",
   "metadata": {},
   "outputs": [],
   "source": [
    "def data_info():\n",
    "    print('Уникальные значения:')\n",
    "    print()\n",
    "    for column in df.columns:\n",
    "        print('* Cтолбец', column,\" *\")\n",
    "        print(df[column].unique())\n",
    "        print(\"----------------------\")"
   ]
  },
  {
   "cell_type": "code",
   "execution_count": 5,
   "id": "19580532",
   "metadata": {
    "scrolled": false
   },
   "outputs": [
    {
     "name": "stdout",
     "output_type": "stream",
     "text": [
      "Уникальные значения:\n",
      "\n",
      "* Cтолбец age  *\n",
      "[25 38 28 44 18 34 29 63 24 55 65 36 26 58 48 43 20 37 40 72 45 22 23 54\n",
      " 32 46 56 17 39 52 21 42 33 30 47 41 19 69 50 31 59 49 51 27 57 61 64 79\n",
      " 73 53 77 80 62 35 68 66 75 60 67 71 70 90 81 74 78 82 83 85 76 84 89 88\n",
      " 87 86]\n",
      "----------------------\n",
      "* Cтолбец workclass  *\n",
      "['Private' 'Local-gov' '?' 'Self-emp-not-inc' 'Federal-gov' 'State-gov'\n",
      " 'Self-emp-inc' 'Without-pay' 'Never-worked']\n",
      "----------------------\n",
      "* Cтолбец fnlwgt  *\n",
      "[226802  89814 336951 ... 129912 255835 257302]\n",
      "----------------------\n",
      "* Cтолбец education  *\n",
      "['11th' 'HS-grad' 'Assoc-acdm' 'Some-college' '10th' 'Prof-school'\n",
      " '7th-8th' 'Bachelors' 'Masters' 'Doctorate' '5th-6th' 'Assoc-voc' '9th'\n",
      " '12th' '1st-4th' 'Preschool']\n",
      "----------------------\n",
      "* Cтолбец educational-num  *\n",
      "[ 7  9 12 10  6 15  4 13 14 16  3 11  5  8  2  1]\n",
      "----------------------\n",
      "* Cтолбец marital-status  *\n",
      "['Never-married' 'Married-civ-spouse' 'Widowed' 'Divorced' 'Separated'\n",
      " 'Married-spouse-absent' 'Married-AF-spouse']\n",
      "----------------------\n",
      "* Cтолбец occupation  *\n",
      "['Machine-op-inspct' 'Farming-fishing' 'Protective-serv' '?'\n",
      " 'Other-service' 'Prof-specialty' 'Craft-repair' 'Adm-clerical'\n",
      " 'Exec-managerial' 'Tech-support' 'Sales' 'Priv-house-serv'\n",
      " 'Transport-moving' 'Handlers-cleaners' 'Armed-Forces']\n",
      "----------------------\n",
      "* Cтолбец relationship  *\n",
      "['Own-child' 'Husband' 'Not-in-family' 'Unmarried' 'Wife' 'Other-relative']\n",
      "----------------------\n",
      "* Cтолбец race  *\n",
      "['Black' 'White' 'Asian-Pac-Islander' 'Other' 'Amer-Indian-Eskimo']\n",
      "----------------------\n",
      "* Cтолбец gender  *\n",
      "['Male' 'Female']\n",
      "----------------------\n",
      "* Cтолбец capital-gain  *\n",
      "[    0  7688  3103  6418  7298  3908 14084  5178 15024 99999  2597  2907\n",
      "  4650  6497  1055  5013 27828  4934  4064  3674  2174 10605  3418   114\n",
      "  2580  3411  4508  4386  8614 13550  6849  2463  3137  2885  2964  1471\n",
      " 10566  2354  1424  1455  3325  4416 25236   594  2105  4787  2829   401\n",
      "  4865  1264  1506 10520  3464  2653 20051  4101  1797  2407  3471  1086\n",
      "  1848 14344  1151  2993  2290 15020  9386  2202  3818  2176  5455 11678\n",
      "  7978  7262  6514 41310  3456  7430  2414  2062 34095  1831  6723  5060\n",
      " 15831  2977  2346  3273  2329  9562  2635  4931  1731  6097   914  7896\n",
      "  5556  1409  3781  3942  2538  3887 25124  7443  5721  1173  4687  6612\n",
      "  6767  2961   991  2036  2936  2050  1111  2228 22040  3432  6360  2009\n",
      "  1639 18481  2387]\n",
      "----------------------\n",
      "* Cтолбец capital-loss  *\n",
      "[   0 1721 1876 2415 1887  625 1977 2057 1429 1590 1485 2051 2377 1672\n",
      " 1628 1902 1602 1741 2444 1408 2001 2042 1740 1825 1848 1719 3004 2179\n",
      " 1573 2205 1258 2339 1726 2258 1340 1504 2559 1668 1974 1980 1564 2547\n",
      " 2002 1669 1617  323 3175 2472 2174 1579 2129 1510 1735 2282 1870 1411\n",
      " 1911 1651 1092 1762 2457 2231 2238  653 1138 2246 2603 2392 1944 1380\n",
      " 2465 1421 3770 1594  213 2149 2824 1844 2467 2163 1816 1648 2206 2352\n",
      "  419 1539  880  810  974 4356 2489 1755 3683 2267 2080  155 3900 2201\n",
      " 2754]\n",
      "----------------------\n",
      "* Cтолбец hours-per-week  *\n",
      "[40 50 30 32 10 39 35 48 25 20 45 47  6 43 90 54 60 38 36 18 24 44 56 28\n",
      " 16 41 22 55 14 33 37  8 12 70 15 75 52 84 42 80 68 99 65  5 17 72 53 29\n",
      " 96 21 46  3  1 23 49 67 76  7  2 58 26 34  4 51 78 63 31 92 77 27 85 13\n",
      " 19 98 62 66 57 11 86 59  9 64 73 61 88 79 89 74 69 87 97 94 82 91 81 95]\n",
      "----------------------\n",
      "* Cтолбец native-country  *\n",
      "['United-States' '?' 'Peru' 'Guatemala' 'Mexico' 'Dominican-Republic'\n",
      " 'Ireland' 'Germany' 'Philippines' 'Thailand' 'Haiti' 'El-Salvador'\n",
      " 'Puerto-Rico' 'Vietnam' 'South' 'Columbia' 'Japan' 'India' 'Cambodia'\n",
      " 'Poland' 'Laos' 'England' 'Cuba' 'Taiwan' 'Italy' 'Canada' 'Portugal'\n",
      " 'China' 'Nicaragua' 'Honduras' 'Iran' 'Scotland' 'Jamaica' 'Ecuador'\n",
      " 'Yugoslavia' 'Hungary' 'Hong' 'Greece' 'Trinadad&Tobago'\n",
      " 'Outlying-US(Guam-USVI-etc)' 'France' 'Holand-Netherlands']\n",
      "----------------------\n",
      "* Cтолбец income  *\n",
      "['<=50K' '>50K']\n",
      "----------------------\n"
     ]
    }
   ],
   "source": [
    "data_info()"
   ]
  },
  {
   "cell_type": "markdown",
   "id": "e96bcd27",
   "metadata": {},
   "source": [
    "Рассмотрим статистические данные"
   ]
  },
  {
   "cell_type": "code",
   "execution_count": 6,
   "id": "59e54406",
   "metadata": {},
   "outputs": [
    {
     "data": {
      "text/html": [
       "<div>\n",
       "<style scoped>\n",
       "    .dataframe tbody tr th:only-of-type {\n",
       "        vertical-align: middle;\n",
       "    }\n",
       "\n",
       "    .dataframe tbody tr th {\n",
       "        vertical-align: top;\n",
       "    }\n",
       "\n",
       "    .dataframe thead th {\n",
       "        text-align: right;\n",
       "    }\n",
       "</style>\n",
       "<table border=\"1\" class=\"dataframe\">\n",
       "  <thead>\n",
       "    <tr style=\"text-align: right;\">\n",
       "      <th></th>\n",
       "      <th>age</th>\n",
       "      <th>fnlwgt</th>\n",
       "      <th>educational-num</th>\n",
       "      <th>capital-gain</th>\n",
       "      <th>capital-loss</th>\n",
       "      <th>hours-per-week</th>\n",
       "    </tr>\n",
       "  </thead>\n",
       "  <tbody>\n",
       "    <tr>\n",
       "      <th>count</th>\n",
       "      <td>48842.000000</td>\n",
       "      <td>4.884200e+04</td>\n",
       "      <td>48842.000000</td>\n",
       "      <td>48842.000000</td>\n",
       "      <td>48842.000000</td>\n",
       "      <td>48842.000000</td>\n",
       "    </tr>\n",
       "    <tr>\n",
       "      <th>mean</th>\n",
       "      <td>38.643585</td>\n",
       "      <td>1.896641e+05</td>\n",
       "      <td>10.078089</td>\n",
       "      <td>1079.067626</td>\n",
       "      <td>87.502314</td>\n",
       "      <td>40.422382</td>\n",
       "    </tr>\n",
       "    <tr>\n",
       "      <th>std</th>\n",
       "      <td>13.710510</td>\n",
       "      <td>1.056040e+05</td>\n",
       "      <td>2.570973</td>\n",
       "      <td>7452.019058</td>\n",
       "      <td>403.004552</td>\n",
       "      <td>12.391444</td>\n",
       "    </tr>\n",
       "    <tr>\n",
       "      <th>min</th>\n",
       "      <td>17.000000</td>\n",
       "      <td>1.228500e+04</td>\n",
       "      <td>1.000000</td>\n",
       "      <td>0.000000</td>\n",
       "      <td>0.000000</td>\n",
       "      <td>1.000000</td>\n",
       "    </tr>\n",
       "    <tr>\n",
       "      <th>25%</th>\n",
       "      <td>28.000000</td>\n",
       "      <td>1.175505e+05</td>\n",
       "      <td>9.000000</td>\n",
       "      <td>0.000000</td>\n",
       "      <td>0.000000</td>\n",
       "      <td>40.000000</td>\n",
       "    </tr>\n",
       "    <tr>\n",
       "      <th>50%</th>\n",
       "      <td>37.000000</td>\n",
       "      <td>1.781445e+05</td>\n",
       "      <td>10.000000</td>\n",
       "      <td>0.000000</td>\n",
       "      <td>0.000000</td>\n",
       "      <td>40.000000</td>\n",
       "    </tr>\n",
       "    <tr>\n",
       "      <th>75%</th>\n",
       "      <td>48.000000</td>\n",
       "      <td>2.376420e+05</td>\n",
       "      <td>12.000000</td>\n",
       "      <td>0.000000</td>\n",
       "      <td>0.000000</td>\n",
       "      <td>45.000000</td>\n",
       "    </tr>\n",
       "    <tr>\n",
       "      <th>max</th>\n",
       "      <td>90.000000</td>\n",
       "      <td>1.490400e+06</td>\n",
       "      <td>16.000000</td>\n",
       "      <td>99999.000000</td>\n",
       "      <td>4356.000000</td>\n",
       "      <td>99.000000</td>\n",
       "    </tr>\n",
       "  </tbody>\n",
       "</table>\n",
       "</div>"
      ],
      "text/plain": [
       "                age        fnlwgt  educational-num  capital-gain  \\\n",
       "count  48842.000000  4.884200e+04     48842.000000  48842.000000   \n",
       "mean      38.643585  1.896641e+05        10.078089   1079.067626   \n",
       "std       13.710510  1.056040e+05         2.570973   7452.019058   \n",
       "min       17.000000  1.228500e+04         1.000000      0.000000   \n",
       "25%       28.000000  1.175505e+05         9.000000      0.000000   \n",
       "50%       37.000000  1.781445e+05        10.000000      0.000000   \n",
       "75%       48.000000  2.376420e+05        12.000000      0.000000   \n",
       "max       90.000000  1.490400e+06        16.000000  99999.000000   \n",
       "\n",
       "       capital-loss  hours-per-week  \n",
       "count  48842.000000    48842.000000  \n",
       "mean      87.502314       40.422382  \n",
       "std      403.004552       12.391444  \n",
       "min        0.000000        1.000000  \n",
       "25%        0.000000       40.000000  \n",
       "50%        0.000000       40.000000  \n",
       "75%        0.000000       45.000000  \n",
       "max     4356.000000       99.000000  "
      ]
     },
     "execution_count": 6,
     "metadata": {},
     "output_type": "execute_result"
    }
   ],
   "source": [
    "df.describe()"
   ]
  },
  {
   "cell_type": "markdown",
   "id": "664a36ab",
   "metadata": {},
   "source": [
    "Посмотрим на случайные строки "
   ]
  },
  {
   "cell_type": "code",
   "execution_count": 7,
   "id": "9dcf03e4",
   "metadata": {
    "scrolled": false
   },
   "outputs": [
    {
     "data": {
      "text/html": [
       "<div>\n",
       "<style scoped>\n",
       "    .dataframe tbody tr th:only-of-type {\n",
       "        vertical-align: middle;\n",
       "    }\n",
       "\n",
       "    .dataframe tbody tr th {\n",
       "        vertical-align: top;\n",
       "    }\n",
       "\n",
       "    .dataframe thead th {\n",
       "        text-align: right;\n",
       "    }\n",
       "</style>\n",
       "<table border=\"1\" class=\"dataframe\">\n",
       "  <thead>\n",
       "    <tr style=\"text-align: right;\">\n",
       "      <th></th>\n",
       "      <th>age</th>\n",
       "      <th>workclass</th>\n",
       "      <th>fnlwgt</th>\n",
       "      <th>education</th>\n",
       "      <th>educational-num</th>\n",
       "      <th>marital-status</th>\n",
       "      <th>occupation</th>\n",
       "      <th>relationship</th>\n",
       "      <th>race</th>\n",
       "      <th>gender</th>\n",
       "      <th>capital-gain</th>\n",
       "      <th>capital-loss</th>\n",
       "      <th>hours-per-week</th>\n",
       "      <th>native-country</th>\n",
       "      <th>income</th>\n",
       "    </tr>\n",
       "  </thead>\n",
       "  <tbody>\n",
       "    <tr>\n",
       "      <th>7638</th>\n",
       "      <td>41</td>\n",
       "      <td>Private</td>\n",
       "      <td>190786</td>\n",
       "      <td>Assoc-voc</td>\n",
       "      <td>11</td>\n",
       "      <td>Married-civ-spouse</td>\n",
       "      <td>Adm-clerical</td>\n",
       "      <td>Husband</td>\n",
       "      <td>White</td>\n",
       "      <td>Male</td>\n",
       "      <td>7298</td>\n",
       "      <td>0</td>\n",
       "      <td>40</td>\n",
       "      <td>United-States</td>\n",
       "      <td>&gt;50K</td>\n",
       "    </tr>\n",
       "    <tr>\n",
       "      <th>39376</th>\n",
       "      <td>45</td>\n",
       "      <td>Self-emp-not-inc</td>\n",
       "      <td>77132</td>\n",
       "      <td>Some-college</td>\n",
       "      <td>10</td>\n",
       "      <td>Never-married</td>\n",
       "      <td>Sales</td>\n",
       "      <td>Not-in-family</td>\n",
       "      <td>White</td>\n",
       "      <td>Male</td>\n",
       "      <td>0</td>\n",
       "      <td>0</td>\n",
       "      <td>55</td>\n",
       "      <td>United-States</td>\n",
       "      <td>&lt;=50K</td>\n",
       "    </tr>\n",
       "    <tr>\n",
       "      <th>15514</th>\n",
       "      <td>25</td>\n",
       "      <td>Private</td>\n",
       "      <td>176864</td>\n",
       "      <td>Bachelors</td>\n",
       "      <td>13</td>\n",
       "      <td>Never-married</td>\n",
       "      <td>Exec-managerial</td>\n",
       "      <td>Not-in-family</td>\n",
       "      <td>White</td>\n",
       "      <td>Male</td>\n",
       "      <td>0</td>\n",
       "      <td>0</td>\n",
       "      <td>40</td>\n",
       "      <td>United-States</td>\n",
       "      <td>&lt;=50K</td>\n",
       "    </tr>\n",
       "    <tr>\n",
       "      <th>37531</th>\n",
       "      <td>32</td>\n",
       "      <td>Local-gov</td>\n",
       "      <td>209900</td>\n",
       "      <td>Bachelors</td>\n",
       "      <td>13</td>\n",
       "      <td>Married-civ-spouse</td>\n",
       "      <td>Prof-specialty</td>\n",
       "      <td>Husband</td>\n",
       "      <td>White</td>\n",
       "      <td>Male</td>\n",
       "      <td>0</td>\n",
       "      <td>0</td>\n",
       "      <td>65</td>\n",
       "      <td>United-States</td>\n",
       "      <td>&gt;50K</td>\n",
       "    </tr>\n",
       "    <tr>\n",
       "      <th>4837</th>\n",
       "      <td>19</td>\n",
       "      <td>Private</td>\n",
       "      <td>73257</td>\n",
       "      <td>11th</td>\n",
       "      <td>7</td>\n",
       "      <td>Never-married</td>\n",
       "      <td>Other-service</td>\n",
       "      <td>Own-child</td>\n",
       "      <td>White</td>\n",
       "      <td>Female</td>\n",
       "      <td>0</td>\n",
       "      <td>0</td>\n",
       "      <td>15</td>\n",
       "      <td>Germany</td>\n",
       "      <td>&lt;=50K</td>\n",
       "    </tr>\n",
       "    <tr>\n",
       "      <th>7209</th>\n",
       "      <td>39</td>\n",
       "      <td>Private</td>\n",
       "      <td>167882</td>\n",
       "      <td>12th</td>\n",
       "      <td>8</td>\n",
       "      <td>Never-married</td>\n",
       "      <td>Other-service</td>\n",
       "      <td>Unmarried</td>\n",
       "      <td>Black</td>\n",
       "      <td>Female</td>\n",
       "      <td>0</td>\n",
       "      <td>0</td>\n",
       "      <td>48</td>\n",
       "      <td>Haiti</td>\n",
       "      <td>&lt;=50K</td>\n",
       "    </tr>\n",
       "    <tr>\n",
       "      <th>29853</th>\n",
       "      <td>46</td>\n",
       "      <td>Private</td>\n",
       "      <td>192768</td>\n",
       "      <td>HS-grad</td>\n",
       "      <td>9</td>\n",
       "      <td>Married-civ-spouse</td>\n",
       "      <td>Adm-clerical</td>\n",
       "      <td>Wife</td>\n",
       "      <td>White</td>\n",
       "      <td>Female</td>\n",
       "      <td>0</td>\n",
       "      <td>0</td>\n",
       "      <td>40</td>\n",
       "      <td>United-States</td>\n",
       "      <td>&lt;=50K</td>\n",
       "    </tr>\n",
       "    <tr>\n",
       "      <th>28927</th>\n",
       "      <td>28</td>\n",
       "      <td>Private</td>\n",
       "      <td>216814</td>\n",
       "      <td>HS-grad</td>\n",
       "      <td>9</td>\n",
       "      <td>Married-civ-spouse</td>\n",
       "      <td>Transport-moving</td>\n",
       "      <td>Husband</td>\n",
       "      <td>Black</td>\n",
       "      <td>Male</td>\n",
       "      <td>0</td>\n",
       "      <td>0</td>\n",
       "      <td>40</td>\n",
       "      <td>United-States</td>\n",
       "      <td>&lt;=50K</td>\n",
       "    </tr>\n",
       "    <tr>\n",
       "      <th>12991</th>\n",
       "      <td>39</td>\n",
       "      <td>Private</td>\n",
       "      <td>34996</td>\n",
       "      <td>HS-grad</td>\n",
       "      <td>9</td>\n",
       "      <td>Married-civ-spouse</td>\n",
       "      <td>Other-service</td>\n",
       "      <td>Wife</td>\n",
       "      <td>White</td>\n",
       "      <td>Female</td>\n",
       "      <td>0</td>\n",
       "      <td>0</td>\n",
       "      <td>40</td>\n",
       "      <td>United-States</td>\n",
       "      <td>&lt;=50K</td>\n",
       "    </tr>\n",
       "    <tr>\n",
       "      <th>47858</th>\n",
       "      <td>66</td>\n",
       "      <td>?</td>\n",
       "      <td>357750</td>\n",
       "      <td>11th</td>\n",
       "      <td>7</td>\n",
       "      <td>Widowed</td>\n",
       "      <td>?</td>\n",
       "      <td>Not-in-family</td>\n",
       "      <td>Black</td>\n",
       "      <td>Female</td>\n",
       "      <td>0</td>\n",
       "      <td>0</td>\n",
       "      <td>40</td>\n",
       "      <td>United-States</td>\n",
       "      <td>&lt;=50K</td>\n",
       "    </tr>\n",
       "  </tbody>\n",
       "</table>\n",
       "</div>"
      ],
      "text/plain": [
       "       age         workclass  fnlwgt     education  educational-num  \\\n",
       "7638    41           Private  190786     Assoc-voc               11   \n",
       "39376   45  Self-emp-not-inc   77132  Some-college               10   \n",
       "15514   25           Private  176864     Bachelors               13   \n",
       "37531   32         Local-gov  209900     Bachelors               13   \n",
       "4837    19           Private   73257          11th                7   \n",
       "7209    39           Private  167882          12th                8   \n",
       "29853   46           Private  192768       HS-grad                9   \n",
       "28927   28           Private  216814       HS-grad                9   \n",
       "12991   39           Private   34996       HS-grad                9   \n",
       "47858   66                 ?  357750          11th                7   \n",
       "\n",
       "           marital-status        occupation   relationship   race  gender  \\\n",
       "7638   Married-civ-spouse      Adm-clerical        Husband  White    Male   \n",
       "39376       Never-married             Sales  Not-in-family  White    Male   \n",
       "15514       Never-married   Exec-managerial  Not-in-family  White    Male   \n",
       "37531  Married-civ-spouse    Prof-specialty        Husband  White    Male   \n",
       "4837        Never-married     Other-service      Own-child  White  Female   \n",
       "7209        Never-married     Other-service      Unmarried  Black  Female   \n",
       "29853  Married-civ-spouse      Adm-clerical           Wife  White  Female   \n",
       "28927  Married-civ-spouse  Transport-moving        Husband  Black    Male   \n",
       "12991  Married-civ-spouse     Other-service           Wife  White  Female   \n",
       "47858             Widowed                 ?  Not-in-family  Black  Female   \n",
       "\n",
       "       capital-gain  capital-loss  hours-per-week native-country income  \n",
       "7638           7298             0              40  United-States   >50K  \n",
       "39376             0             0              55  United-States  <=50K  \n",
       "15514             0             0              40  United-States  <=50K  \n",
       "37531             0             0              65  United-States   >50K  \n",
       "4837              0             0              15        Germany  <=50K  \n",
       "7209              0             0              48          Haiti  <=50K  \n",
       "29853             0             0              40  United-States  <=50K  \n",
       "28927             0             0              40  United-States  <=50K  \n",
       "12991             0             0              40  United-States  <=50K  \n",
       "47858             0             0              40  United-States  <=50K  "
      ]
     },
     "execution_count": 7,
     "metadata": {},
     "output_type": "execute_result"
    }
   ],
   "source": [
    "df.sample(10)"
   ]
  },
  {
   "cell_type": "markdown",
   "id": "775c43ad",
   "metadata": {},
   "source": [
    "## Предобработка данных"
   ]
  },
  {
   "cell_type": "markdown",
   "id": "ed129ce9",
   "metadata": {},
   "source": [
    "Столбцы `education` и `education-num` повторяют друг друга в разном формате, удалим первый"
   ]
  },
  {
   "cell_type": "code",
   "execution_count": 8,
   "id": "b6de447a",
   "metadata": {},
   "outputs": [],
   "source": [
    "df = df.drop(['education'],axis=1)"
   ]
  },
  {
   "cell_type": "code",
   "execution_count": 9,
   "id": "8a061dac",
   "metadata": {},
   "outputs": [
    {
     "name": "stdout",
     "output_type": "stream",
     "text": [
      "Количество положительных статусов в дата сете: 11687\n"
     ]
    }
   ],
   "source": [
    "print('Количество положительных статусов в дата сете:',df[df['income']=='>50K']['income'].count())"
   ]
  },
  {
   "cell_type": "markdown",
   "id": "3e6bc941",
   "metadata": {},
   "source": [
    "Проверим дупликаты."
   ]
  },
  {
   "cell_type": "code",
   "execution_count": 10,
   "id": "c911fe0a",
   "metadata": {},
   "outputs": [
    {
     "data": {
      "text/plain": [
       "52"
      ]
     },
     "execution_count": 10,
     "metadata": {},
     "output_type": "execute_result"
    }
   ],
   "source": [
    "df.duplicated().sum()"
   ]
  },
  {
   "cell_type": "markdown",
   "id": "718a39d4",
   "metadata": {},
   "source": [
    "Удалим их"
   ]
  },
  {
   "cell_type": "code",
   "execution_count": 11,
   "id": "54878e41",
   "metadata": {},
   "outputs": [],
   "source": [
    "df = df.drop_duplicates().reset_index(drop = True)"
   ]
  },
  {
   "cell_type": "markdown",
   "id": "96a09002",
   "metadata": {},
   "source": [
    "Проверка количественных переменных на Мультиколлинеарность"
   ]
  },
  {
   "cell_type": "code",
   "execution_count": 12,
   "id": "2f7d8e3b",
   "metadata": {},
   "outputs": [],
   "source": [
    "df = df.replace('<=50K',0)\n",
    "df = df.replace('>50K',1)"
   ]
  },
  {
   "cell_type": "code",
   "execution_count": 13,
   "id": "02b9638e",
   "metadata": {},
   "outputs": [
    {
     "data": {
      "image/png": "[encoded data removed]",
      "text/plain": [
       "<Figure size 720x720 with 1 Axes>"
      ]
     },
     "metadata": {
      "needs_background": "light"
     },
     "output_type": "display_data"
    }
   ],
   "source": [
    "corr = df.corr()\n",
    "\n",
    "fig, ax = plt.subplots(figsize=(10,10))\n",
    "ax.set_xticks(np.arange(len(corr.index)))\n",
    "ax.set_yticks(np.arange(len(corr.index)))\n",
    "\n",
    "ax.set_xticklabels(corr.index)\n",
    "ax.set_yticklabels(corr.index)\n",
    "\n",
    "plt.setp(ax.get_xticklabels(), rotation=45, ha=\"right\",\n",
    "         rotation_mode=\"anchor\")\n",
    "\n",
    "data = corr.values\n",
    "\n",
    "for i in range(len(corr.index)):\n",
    "    for j in range(len(corr.index)):\n",
    "        text = ax.text(j, i, '{:.2}'.format(data[i, j]),\n",
    "                       ha=\"center\", va=\"center\", color=\"w\")\n",
    "        \n",
    "im = ax.imshow(corr.corr(), cmap='Reds')"
   ]
  },
  {
   "cell_type": "markdown",
   "id": "9f9f152a",
   "metadata": {},
   "source": [
    "Построим гистограммы количественных переменных"
   ]
  },
  {
   "cell_type": "code",
   "execution_count": 14,
   "id": "d8e07e4a",
   "metadata": {},
   "outputs": [],
   "source": [
    "def hist(column,b,a,n):\n",
    "    plt.figure(figsize=(15,7))\n",
    "    sns.despine(left=True)\n",
    "    sns.histplot(df[column],bins=b, label=column,color=\"red\")\n",
    "    plt.xlim([a, n])\n",
    "    plt.legend(loc='upper right')\n",
    "    plt.title('Гистограмма '+column)\n",
    "    plt.show()"
   ]
  },
  {
   "cell_type": "code",
   "execution_count": 15,
   "id": "5af0a409",
   "metadata": {},
   "outputs": [
    {
     "data": {
      "image/png": "[encoded data removed]",
      "text/plain": [
       "<Figure size 1080x504 with 1 Axes>"
      ]
     },
     "metadata": {
      "needs_background": "light"
     },
     "output_type": "display_data"
    }
   ],
   "source": [
    "hist('age',80,18,90)"
   ]
  },
  {
   "cell_type": "code",
   "execution_count": 16,
   "id": "64503a48",
   "metadata": {},
   "outputs": [
    {
     "data": {
      "image/png": "[encoded data removed]",
      "text/plain": [
       "<Figure size 1080x504 with 1 Axes>"
      ]
     },
     "metadata": {
      "needs_background": "light"
     },
     "output_type": "display_data"
    }
   ],
   "source": [
    "hist('fnlwgt',1000,1000,1000000)"
   ]
  },
  {
   "cell_type": "code",
   "execution_count": 17,
   "id": "c4202ae1",
   "metadata": {
    "scrolled": false
   },
   "outputs": [
    {
     "data": {
      "image/png": "[encoded data removed]",
      "text/plain": [
       "<Figure size 1080x504 with 1 Axes>"
      ]
     },
     "metadata": {
      "needs_background": "light"
     },
     "output_type": "display_data"
    }
   ],
   "source": [
    "hist('educational-num',8,0,17)"
   ]
  },
  {
   "cell_type": "code",
   "execution_count": 18,
   "id": "6f2a06c0",
   "metadata": {},
   "outputs": [
    {
     "data": {
      "image/png": "[encoded data removed]",
      "text/plain": [
       "<Figure size 1080x504 with 1 Axes>"
      ]
     },
     "metadata": {
      "needs_background": "light"
     },
     "output_type": "display_data"
    }
   ],
   "source": [
    "hist('capital-gain',5,0,100000)"
   ]
  },
  {
   "cell_type": "code",
   "execution_count": 19,
   "id": "7c1aebc7",
   "metadata": {},
   "outputs": [
    {
     "data": {
      "image/png": "[encoded data removed]",
      "text/plain": [
       "<Figure size 1080x504 with 1 Axes>"
      ]
     },
     "metadata": {
      "needs_background": "light"
     },
     "output_type": "display_data"
    }
   ],
   "source": [
    "hist('capital-loss',5,0,4000)"
   ]
  },
  {
   "cell_type": "code",
   "execution_count": 20,
   "id": "1ffa1e21",
   "metadata": {},
   "outputs": [
    {
     "data": {
      "image/png": "[encoded data removed]",
      "text/plain": [
       "<Figure size 1080x504 with 1 Axes>"
      ]
     },
     "metadata": {
      "needs_background": "light"
     },
     "output_type": "display_data"
    }
   ],
   "source": [
    "hist('hours-per-week',15,0,100)"
   ]
  },
  {
   "cell_type": "markdown",
   "id": "7f4174ec",
   "metadata": {},
   "source": [
    "Изходя из полученных гистограмм, выбросов особо не наблюдается."
   ]
  },
  {
   "cell_type": "markdown",
   "id": "2cb25bc5",
   "metadata": {},
   "source": [
    "Отделим таргет"
   ]
  },
  {
   "cell_type": "code",
   "execution_count": 21,
   "id": "54047d4d",
   "metadata": {},
   "outputs": [],
   "source": [
    "features = df.drop('income', axis=1)\n",
    "target = df['income']"
   ]
  },
  {
   "cell_type": "markdown",
   "id": "e683e4dc",
   "metadata": {},
   "source": [
    "Проведем кодировку категориальных переменных."
   ]
  },
  {
   "cell_type": "code",
   "execution_count": 22,
   "id": "30fb89f7",
   "metadata": {},
   "outputs": [],
   "source": [
    "encoder = OrdinalEncoder()\n",
    "features_numeric = features[['fnlwgt','educational-num','capital-gain','capital-loss','age','hours-per-week']]\n",
    "features_0 = features.drop(['fnlwgt','educational-num','capital-gain','capital-loss','age','hours-per-week'] , axis=1)\n",
    "features_0 = pd.DataFrame(encoder.fit_transform(features_0), columns=features_0.columns)\n",
    "features = features_0.join(features_numeric)"
   ]
  },
  {
   "cell_type": "markdown",
   "id": "c706bd8a",
   "metadata": {},
   "source": [
    "Разделим дата сет на обучающий и тестовый"
   ]
  },
  {
   "cell_type": "code",
   "execution_count": 23,
   "id": "a501bcb8",
   "metadata": {},
   "outputs": [],
   "source": [
    "features_train, features_test, target_train, target_test = train_test_split(features,target,  test_size=0.2,\n",
    "                                                                          random_state=12345)"
   ]
  },
  {
   "cell_type": "markdown",
   "id": "70ed0bb3",
   "metadata": {},
   "source": [
    "Балансировака классов "
   ]
  },
  {
   "cell_type": "code",
   "execution_count": 24,
   "id": "cbc60623",
   "metadata": {},
   "outputs": [],
   "source": [
    "classes = np.unique(target_train)\n",
    "weights = compute_class_weight(class_weight='balanced', classes=classes, y=target_train)\n",
    "class_weights = dict(zip(classes, weights))"
   ]
  },
  {
   "cell_type": "markdown",
   "id": "9f2060fd",
   "metadata": {},
   "source": [
    "## Обучение и тестирование модели"
   ]
  },
  {
   "cell_type": "code",
   "execution_count": 25,
   "id": "7e4d9579",
   "metadata": {},
   "outputs": [
    {
     "name": "stdout",
     "output_type": "stream",
     "text": [
      "F1 наилучшей модели на тестовой выборке: 0.7170603674540682 Количество деревьев: 70 Глубина: 5\n",
      "AUC-ROC = 0.9295775772133652\n"
     ]
    }
   ],
   "source": [
    "best_model = None\n",
    "best_result = 0\n",
    "\n",
    "for est in range(20, 90, 10):\n",
    "    for depth in range(1, 10, 2):\n",
    "        modelz = CatBoostClassifier(verbose=False,random_state=12345, n_estimators=est, max_depth=depth,class_weights=class_weights)\n",
    "        modelz.fit(features_train,target_train)\n",
    "        target_predict = modelz.predict(features_test)\n",
    "        result = f1_score(target_predict, target_test)\n",
    "        if result > best_result:\n",
    "            best_model = modelz\n",
    "            best_result = result\n",
    "            best_est = est\n",
    "            best_depth = depth\n",
    "\n",
    "fpr, tpr, thresholds = roc_curve(target_test, best_model.predict_proba(features_test)[:, 1])\n",
    "target_predict = pd.Series(best_model.predict(features_test))\n",
    "\n",
    "print(\"F1 наилучшей модели на тестовой выборке:\", best_result, \"Количество деревьев:\", best_est, \"Глубина:\", best_depth)\n",
    "print(\"AUC-ROC =\", roc_auc_score(target_test,best_model.predict_proba(features_test)[:, 1]))"
   ]
  },
  {
   "cell_type": "markdown",
   "id": "8223b798",
   "metadata": {},
   "source": [
    "## Результативность модели"
   ]
  },
  {
   "cell_type": "markdown",
   "id": "059f679e",
   "metadata": {},
   "source": [
    "Посмотрим осноынве метрики, а также построим график зависимости доли истинно положительных ответов от доли ложноположительных ответов (метрика AUC-ROC - площадь под графиком от 0 до 1). Также выведем матрицу ошибок, для лучшей визуализации обучения."
   ]
  },
  {
   "cell_type": "code",
   "execution_count": 26,
   "id": "f382e786",
   "metadata": {},
   "outputs": [],
   "source": [
    "def plot(fpr, tpr): \n",
    "    plt.figure() \n",
    "    plt.plot([0, 1], [0, 1], linestyle='--') \n",
    "    plt.plot(fpr, tpr) \n",
    "    plt.ylim([0.0, 1.0]) \n",
    "    plt.xlim([0.0, 1.0]) \n",
    "    plt.xlabel('False Positive Rate') \n",
    "    plt.ylabel('True Positive Rate') \n",
    "    plt.title('ROC-кривая модели') \n",
    "    plt.show()"
   ]
  },
  {
   "cell_type": "code",
   "execution_count": 27,
   "id": "ccfda2ba",
   "metadata": {
    "scrolled": false
   },
   "outputs": [
    {
     "name": "stdout",
     "output_type": "stream",
     "text": [
      "F1-score:  0.7170603674540682 (среднее гармоническое полноты и точности)\n",
      "Полнота:  0.8715440238196512 (доля TP среди TP+FN)\n",
      "Точность:  0.6090963139120095 (доля TP среди TP+FP)\n",
      "AUC-ROC:  0.9295775772133652\n",
      "Accuracy:  0.8342898134863702\n"
     ]
    },
    {
     "data": {
      "image/png": "[encoded data removed]",
      "text/plain": [
       "<Figure size 432x288 with 1 Axes>"
      ]
     },
     "metadata": {
      "needs_background": "light"
     },
     "output_type": "display_data"
    },
    {
     "data": {
      "image/png": "[encoded data removed]",
      "text/plain": [
       "<Figure size 576x576 with 2 Axes>"
      ]
     },
     "metadata": {
      "needs_background": "light"
     },
     "output_type": "display_data"
    }
   ],
   "source": [
    "fpr, tpr, thresholds = roc_curve(target_test, best_model.predict_proba(features_test)[:,1])\n",
    "print(\"F1-score: \", f1_score(target_test, target_predict), \"(среднее гармоническое полноты и точности)\")\n",
    "print(\"Полнота: \", recall_score(target_test, target_predict), \"(доля TP среди TP+FN)\")\n",
    "print(\"Точность: \", precision_score(target_test, target_predict), \"(доля TP среди TP+FP)\")\n",
    "print(\"AUC-ROC: \", roc_auc_score(target_test, best_model.predict_proba(features_test)[:,1]))\n",
    "print(\"Accuracy: \", best_model.score(features_test,target_test))\n",
    "plot(fpr, tpr)\n",
    "\n",
    "\n",
    "confusion_matrix = pd.crosstab(target_test, target_predict, rownames=['Actual'], colnames=['Predicted'])\n",
    "fig, ax = plt.subplots(figsize=(8,8))\n",
    "sns.heatmap(confusion_matrix, annot=True, ax=ax)\n",
    "plt.show()"
   ]
  },
  {
   "cell_type": "code",
   "execution_count": 28,
   "id": "693f55f3",
   "metadata": {},
   "outputs": [],
   "source": [
    "def chart_feature_imp(model,string=' '):\n",
    "    feature_imp = pd.Series(model.feature_importances_, index=features_test.columns).sort_values(ascending=False)\n",
    "\n",
    "    ax = sns.barplot(x=feature_imp, y=feature_imp.index)\n",
    "    _ = ax.set(xlabel='Оценка важности признаков', ylabel='Признаки')\n",
    "    _ = ax.set_title('Визуализация важности признаков'+string)"
   ]
  },
  {
   "cell_type": "code",
   "execution_count": 29,
   "id": "7f58221b",
   "metadata": {},
   "outputs": [
    {
     "data": {
      "image/png": "[encoded data removed]",
      "text/plain": [
       "<Figure size 432x288 with 1 Axes>"
      ]
     },
     "metadata": {
      "needs_background": "light"
     },
     "output_type": "display_data"
    }
   ],
   "source": [
    "chart_feature_imp(best_model,' дохода')"
   ]
  },
  {
   "cell_type": "markdown",
   "id": "c88bacc8",
   "metadata": {},
   "source": [
    "## Вывод\n",
    "\n",
    "Полученная модель имеет хороший показатель верных предстказаний для учебной модели (83%). Так же метрики Полноты и точности указывают хорошую долю получения положительного класса. Наиболее важные для обучения модели метрики - \"отношения\",\"сторонний доход\" и \"количество лет обучения\""
   ]
  },
  {
   "cell_type": "code",
   "execution_count": null,
   "id": "66f23fa6",
   "metadata": {},
   "outputs": [],
   "source": []
  }
 ],
 "metadata": {
  "hide_input": false,
  "kernelspec": {
   "display_name": "Python 3",
   "language": "python",
   "name": "python3"
  },
  "language_info": {
   "codemirror_mode": {
    "name": "ipython",
    "version": 3
   },
   "file_extension": ".py",
   "mimetype": "text/x-python",
   "name": "python",
   "nbconvert_exporter": "python",
   "pygments_lexer": "ipython3",
   "version": "3.6.8"
  }
 },
 "nbformat": 4,
 "nbformat_minor": 5
}
